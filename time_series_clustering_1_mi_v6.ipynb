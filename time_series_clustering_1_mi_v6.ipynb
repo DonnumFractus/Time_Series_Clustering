{
  "cells": [
    {
      "cell_type": "code",
      "source": [
        "import datetime\n",
        "\n",
        "date_time = datetime.datetime.now()"
      ],
      "metadata": {
        "id": "OjzT8Iblca_r"
      },
      "execution_count": 1,
      "outputs": []
    },
    {
      "cell_type": "code",
      "execution_count": 2,
      "metadata": {
        "id": "Isv06P4AZXE3"
      },
      "outputs": [],
      "source": [
        "import json\n",
        "import firebase_admin\n",
        "from firebase_admin import credentials\n",
        "from firebase_admin import firestore\n",
        "import re\n",
        "import sys\n",
        "\n",
        "cred = credentials.Certificate(\"permissions.txt\")\n",
        "firebase_admin.initialize_app(cred)\n",
        "\n",
        "# Initialize Firestore database client\n",
        "db = firestore.client()\n",
        "\n",
        "# Specify the collection to retrieve documents from and the number of documents to retrieve\n",
        "collection_ref = db.collection(\"Livestreams\")\n",
        "\n",
        "# Returns an adjusted string\n",
        "def process_string(input_string):\n",
        "    # Translation table to replace \":\" with a space\n",
        "    translation_table = str.maketrans({\":\": \" \"})\n",
        "\n",
        "    # Create a set to store unique words\n",
        "    unique_words = set()\n",
        "\n",
        "    # Iterate over words in the input string\n",
        "    for word in input_string.translate(translation_table).split():\n",
        "        # Check if the word has at least one capitalized character\n",
        "        if any(c.isupper() for c in word):\n",
        "            # Add the word to the set of unique words\n",
        "            unique_words.add(word)\n",
        "\n",
        "    # Return the unique words as a string\n",
        "    return \" \".join(unique_words)\n",
        "\n",
        "# Load Firebase Database credentials\n",
        "def retreiveChatData(numberOfVods):\n",
        "\n",
        "    n_docs_to_retrieve = numberOfVods  # Change this to the desired number of documents to retrieve\n",
        "\n",
        "    # Iterate over the first n documents in the collection\n",
        "    docs = collection_ref.limit(n_docs_to_retrieve).stream()\n",
        "\n",
        "    # Basic lists to store data in\n",
        "    streamIDList = []\n",
        "    multipleStreamVODChatList = {}\n",
        "\n",
        "    # Select a list of document ID's to reference\n",
        "    for doc in docs:\n",
        "        doc_id = doc.id\n",
        "        streamIDList.append(doc_id)\n",
        "\n",
        "    # Download the ChatLogs as dictionaries and load a variable.\n",
        "    for ids in streamIDList:\n",
        "\n",
        "        sub_collection_ref = db.collection(\"Livestreams\").document(ids).collection('ChatLogs')\n",
        "        chat_logs = sub_collection_ref.stream()\n",
        "\n",
        "        totalChatLog = []\n",
        "\n",
        "        for chat_log in chat_logs:\n",
        "            totalChatLog = totalChatLog + chat_log.to_dict()[\"Chats\"]\n",
        "\n",
        "        # adjust messages to only have relevant data\n",
        "\n",
        "        totalChatLog = [chats for chats in totalChatLog if process_string(chats[\"message\"])]\n",
        "\n",
        "        for chats in totalChatLog:\n",
        "            chats[\"message\"] = process_string(chats[\"message\"])\n",
        "\n",
        "\n",
        "        list_size = sys.getsizeof(totalChatLog)\n",
        "        print(f\"List size: {list_size} bytes\")\n",
        "\n",
        "        # Create a finalList of lists of message objects in\n",
        "        multipleStreamVODChatList[ids] = totalChatLog\n",
        "\n",
        "\n",
        "    print(multipleStreamVODChatList.keys()) # Print the dictionary Keys to confirm\n",
        "    return multipleStreamVODChatList\n",
        "    # From here on out, we can use the StreamVodChatList to examine multiple unique VOD chats, compare if needed.\n",
        "\n",
        "\n",
        "# Load Firebase Database credentials\n",
        "def retreiveSpecificChat(vodID):\n",
        "\n",
        "    collection_ref = db.collection(\"Livestreams\").document(vodID).collection('ChatLogs')\n",
        "    chat_logs = collection_ref.stream()\n",
        "    # Download the ChatLogs as dictionaries and load a variable.\n",
        "\n",
        "    totalChatLog = []\n",
        "\n",
        "    for chat_log in chat_logs:\n",
        "        totalChatLog = totalChatLog + chat_log.to_dict()[\"Chats\"]\n",
        "\n",
        "    # adjust messages to only have relevant data\n",
        "\n",
        "    totalChatLog = [chats for chats in totalChatLog if process_string(chats[\"message\"])]\n",
        "\n",
        "    for chats in totalChatLog:\n",
        "        chats[\"message\"] = process_string(chats[\"message\"])\n",
        "\n",
        "    return totalChatLog\n",
        "    # From here on out, we can use the StreamVodChatList to examine multiple unique VOD chats, compare if needed.\n",
        "\n"
      ]
    },
    {
      "cell_type": "code",
      "execution_count": 3,
      "metadata": {
        "id": "Bl1uNW-ua9W1"
      },
      "outputs": [],
      "source": [
        "vodIDStringMinimum = '1810011271' # The minimum needed for sufficient data to draw conclusions (15 chats per Min)\n",
        "vodIDStringExpected = '1823236342' # The expected chat logs we'd most likely receive (24 chats per Min)\n",
        "vodIdString_99Perc = '1816825048' # The Chat that would cover 99.99% of chats (86 chats per Min)\n",
        "\n",
        "# Data is now set to idea parameters\n",
        "data = {vodIDStringExpected: retreiveSpecificChat(vodIDStringExpected)}\n",
        "\n",
        "# data = retreiveChatData(1)"
      ]
    },
    {
      "cell_type": "code",
      "execution_count": 4,
      "metadata": {
        "id": "VEM-EU0Tbbrm"
      },
      "outputs": [],
      "source": [
        "import pandas as pd"
      ]
    },
    {
      "cell_type": "code",
      "execution_count": 5,
      "metadata": {
        "colab": {
          "base_uri": "https://localhost:8080/"
        },
        "id": "LKla5SUhjMhB",
        "outputId": "a987b009-1006-4c2a-db9b-89791fa35fd4"
      },
      "outputs": [
        {
          "output_type": "stream",
          "name": "stdout",
          "text": [
            "Keys: dict_keys(['1823236342'])\n"
          ]
        }
      ],
      "source": [
        "keys = data.keys()\n",
        "print(\"Keys:\", keys)"
      ]
    },
    {
      "cell_type": "code",
      "execution_count": 6,
      "metadata": {
        "id": "TemYmavTk8BP"
      },
      "outputs": [],
      "source": [
        "data = pd.DataFrame(data)\n",
        "data.to_csv(\"vog_data.csv\")"
      ]
    },
    {
      "cell_type": "code",
      "execution_count": 7,
      "metadata": {
        "colab": {
          "base_uri": "https://localhost:8080/"
        },
        "id": "5zVq4ffGk_MO",
        "outputId": "ccb04890-d994-4af3-b2a5-88fc584795ae"
      },
      "outputs": [
        {
          "output_type": "stream",
          "name": "stdout",
          "text": [
            "      timestamp                                 message\n",
            "0        0.3167  Strippin Streaming I Just I'm Chatting\n",
            "1        0.3667                              stripDance\n",
            "2        0.5333                               coxHypers\n",
            "3        0.6167                              stripDance\n",
            "4        0.7000                                 Amazing\n",
            "...         ...                                     ...\n",
            "3441   302.8833                                 NODDERS\n",
            "3442   302.9333                                       D\n",
            "3443   302.9500                                Smadge I\n",
            "3444   302.9833                                  Smadge\n",
            "3445   303.0000                              Game BASED\n",
            "\n",
            "[3446 rows x 2 columns]\n"
          ]
        }
      ],
      "source": [
        "import ast\n",
        "\n",
        "# Read the CSV file\n",
        "csv_data = pd.read_csv(\"vog_data.csv\", skiprows=1, header=None, names=[\"data\"])\n",
        "\n",
        "# Convert the string representation of dictionaries to actual dictionaries\n",
        "csv_data[\"data\"] = csv_data[\"data\"].apply(ast.literal_eval)\n",
        "\n",
        "# Create a new DataFrame from the dictionaries\n",
        "data = pd.DataFrame(list(csv_data[\"data\"]))\n",
        "\n",
        "#deleting username row (might need for other analyses)\n",
        "data = data.drop('username', axis=1)\n",
        "\n",
        "# Print the resulting DataFrame\n",
        "print(data)"
      ]
    },
    {
      "cell_type": "code",
      "execution_count": 8,
      "metadata": {
        "colab": {
          "base_uri": "https://localhost:8080/",
          "height": 363
        },
        "id": "B0FhRG5goXZg",
        "outputId": "4fcf8863-788e-4b13-c3a8-6122dd3ce561"
      },
      "outputs": [
        {
          "output_type": "stream",
          "name": "stdout",
          "text": [
            "<class 'pandas.core.frame.DataFrame'>\n",
            "RangeIndex: 3446 entries, 0 to 3445\n",
            "Data columns (total 2 columns):\n",
            " #   Column     Non-Null Count  Dtype  \n",
            "---  ------     --------------  -----  \n",
            " 0   timestamp  3446 non-null   float64\n",
            " 1   message    3446 non-null   object \n",
            "dtypes: float64(1), object(1)\n",
            "memory usage: 54.0+ KB\n"
          ]
        },
        {
          "output_type": "execute_result",
          "data": {
            "text/plain": [
              "   timestamp                                 message\n",
              "0     0.3167  Strippin Streaming I Just I'm Chatting\n",
              "1     0.3667                              stripDance\n",
              "2     0.5333                               coxHypers\n",
              "3     0.6167                              stripDance\n",
              "4     0.7000                                 Amazing"
            ],
            "text/html": [
              "\n",
              "  <div id=\"df-66e28859-f2b6-4c2a-82eb-26f8550608d7\">\n",
              "    <div class=\"colab-df-container\">\n",
              "      <div>\n",
              "<style scoped>\n",
              "    .dataframe tbody tr th:only-of-type {\n",
              "        vertical-align: middle;\n",
              "    }\n",
              "\n",
              "    .dataframe tbody tr th {\n",
              "        vertical-align: top;\n",
              "    }\n",
              "\n",
              "    .dataframe thead th {\n",
              "        text-align: right;\n",
              "    }\n",
              "</style>\n",
              "<table border=\"1\" class=\"dataframe\">\n",
              "  <thead>\n",
              "    <tr style=\"text-align: right;\">\n",
              "      <th></th>\n",
              "      <th>timestamp</th>\n",
              "      <th>message</th>\n",
              "    </tr>\n",
              "  </thead>\n",
              "  <tbody>\n",
              "    <tr>\n",
              "      <th>0</th>\n",
              "      <td>0.3167</td>\n",
              "      <td>Strippin Streaming I Just I'm Chatting</td>\n",
              "    </tr>\n",
              "    <tr>\n",
              "      <th>1</th>\n",
              "      <td>0.3667</td>\n",
              "      <td>stripDance</td>\n",
              "    </tr>\n",
              "    <tr>\n",
              "      <th>2</th>\n",
              "      <td>0.5333</td>\n",
              "      <td>coxHypers</td>\n",
              "    </tr>\n",
              "    <tr>\n",
              "      <th>3</th>\n",
              "      <td>0.6167</td>\n",
              "      <td>stripDance</td>\n",
              "    </tr>\n",
              "    <tr>\n",
              "      <th>4</th>\n",
              "      <td>0.7000</td>\n",
              "      <td>Amazing</td>\n",
              "    </tr>\n",
              "  </tbody>\n",
              "</table>\n",
              "</div>\n",
              "      <button class=\"colab-df-convert\" onclick=\"convertToInteractive('df-66e28859-f2b6-4c2a-82eb-26f8550608d7')\"\n",
              "              title=\"Convert this dataframe to an interactive table.\"\n",
              "              style=\"display:none;\">\n",
              "        \n",
              "  <svg xmlns=\"http://www.w3.org/2000/svg\" height=\"24px\"viewBox=\"0 0 24 24\"\n",
              "       width=\"24px\">\n",
              "    <path d=\"M0 0h24v24H0V0z\" fill=\"none\"/>\n",
              "    <path d=\"M18.56 5.44l.94 2.06.94-2.06 2.06-.94-2.06-.94-.94-2.06-.94 2.06-2.06.94zm-11 1L8.5 8.5l.94-2.06 2.06-.94-2.06-.94L8.5 2.5l-.94 2.06-2.06.94zm10 10l.94 2.06.94-2.06 2.06-.94-2.06-.94-.94-2.06-.94 2.06-2.06.94z\"/><path d=\"M17.41 7.96l-1.37-1.37c-.4-.4-.92-.59-1.43-.59-.52 0-1.04.2-1.43.59L10.3 9.45l-7.72 7.72c-.78.78-.78 2.05 0 2.83L4 21.41c.39.39.9.59 1.41.59.51 0 1.02-.2 1.41-.59l7.78-7.78 2.81-2.81c.8-.78.8-2.07 0-2.86zM5.41 20L4 18.59l7.72-7.72 1.47 1.35L5.41 20z\"/>\n",
              "  </svg>\n",
              "      </button>\n",
              "      \n",
              "  <style>\n",
              "    .colab-df-container {\n",
              "      display:flex;\n",
              "      flex-wrap:wrap;\n",
              "      gap: 12px;\n",
              "    }\n",
              "\n",
              "    .colab-df-convert {\n",
              "      background-color: #E8F0FE;\n",
              "      border: none;\n",
              "      border-radius: 50%;\n",
              "      cursor: pointer;\n",
              "      display: none;\n",
              "      fill: #1967D2;\n",
              "      height: 32px;\n",
              "      padding: 0 0 0 0;\n",
              "      width: 32px;\n",
              "    }\n",
              "\n",
              "    .colab-df-convert:hover {\n",
              "      background-color: #E2EBFA;\n",
              "      box-shadow: 0px 1px 2px rgba(60, 64, 67, 0.3), 0px 1px 3px 1px rgba(60, 64, 67, 0.15);\n",
              "      fill: #174EA6;\n",
              "    }\n",
              "\n",
              "    [theme=dark] .colab-df-convert {\n",
              "      background-color: #3B4455;\n",
              "      fill: #D2E3FC;\n",
              "    }\n",
              "\n",
              "    [theme=dark] .colab-df-convert:hover {\n",
              "      background-color: #434B5C;\n",
              "      box-shadow: 0px 1px 3px 1px rgba(0, 0, 0, 0.15);\n",
              "      filter: drop-shadow(0px 1px 2px rgba(0, 0, 0, 0.3));\n",
              "      fill: #FFFFFF;\n",
              "    }\n",
              "  </style>\n",
              "\n",
              "      <script>\n",
              "        const buttonEl =\n",
              "          document.querySelector('#df-66e28859-f2b6-4c2a-82eb-26f8550608d7 button.colab-df-convert');\n",
              "        buttonEl.style.display =\n",
              "          google.colab.kernel.accessAllowed ? 'block' : 'none';\n",
              "\n",
              "        async function convertToInteractive(key) {\n",
              "          const element = document.querySelector('#df-66e28859-f2b6-4c2a-82eb-26f8550608d7');\n",
              "          const dataTable =\n",
              "            await google.colab.kernel.invokeFunction('convertToInteractive',\n",
              "                                                     [key], {});\n",
              "          if (!dataTable) return;\n",
              "\n",
              "          const docLinkHtml = 'Like what you see? Visit the ' +\n",
              "            '<a target=\"_blank\" href=https://colab.research.google.com/notebooks/data_table.ipynb>data table notebook</a>'\n",
              "            + ' to learn more about interactive tables.';\n",
              "          element.innerHTML = '';\n",
              "          dataTable['output_type'] = 'display_data';\n",
              "          await google.colab.output.renderOutput(dataTable, element);\n",
              "          const docLink = document.createElement('div');\n",
              "          docLink.innerHTML = docLinkHtml;\n",
              "          element.appendChild(docLink);\n",
              "        }\n",
              "      </script>\n",
              "    </div>\n",
              "  </div>\n",
              "  "
            ]
          },
          "metadata": {},
          "execution_count": 8
        }
      ],
      "source": [
        "data.info()\n",
        "data.head()"
      ]
    },
    {
      "cell_type": "code",
      "execution_count": 9,
      "metadata": {
        "colab": {
          "base_uri": "https://localhost:8080/"
        },
        "id": "IjnJ-oFLpoCO",
        "outputId": "5fd09e36-fa03-440d-f4ca-767341c08f34"
      },
      "outputs": [
        {
          "output_type": "stream",
          "name": "stdout",
          "text": [
            "   timestamp  \"ALIENS\" I  \"I'm  \"Layna 4Head DEAD\"  \"Must've  \\\n",
            "0     0.3167           0     0                   0         0   \n",
            "1     0.3667           0     0                   0         0   \n",
            "2     0.5333           0     0                   0         0   \n",
            "3     0.6167           0     0                   0         0   \n",
            "4     0.7000           0     0                   0         0   \n",
            "\n",
            "   \"SAAAAAAAAAAAAM\" A  #NeverPreorder Remember  'B' Big  (But I  \\\n",
            "0                   0                        0        0       0   \n",
            "1                   0                        0        0       0   \n",
            "2                   0                        0        0       0   \n",
            "3                   0                        0        0       0   \n",
            "4                   0                        0        0       0   \n",
            "\n",
            "   //clips.twitch.tv/CharmingSlipperySangCmonBruh-VrYcMWV8psPgjt-M  ...  \\\n",
            "0                                                  0                ...   \n",
            "1                                                  0                ...   \n",
            "2                                                  0                ...   \n",
            "3                                                  0                ...   \n",
            "4                                                  0                ...   \n",
            "\n",
            "   widepeepoHappy  wolfaHead  xD  xD Are  xD Layna  yIPPEE  zekeLUL  \\\n",
            "0               0          0   0       0         0       0        0   \n",
            "1               0          0   0       0         0       0        0   \n",
            "2               0          0   0       0         0       0        0   \n",
            "3               0          0   0       0         0       0        0   \n",
            "4               0          0   0       0         0       0        0   \n",
            "\n",
            "   zekeLUL zekeYOU  ziggyjCHOMP rbeesCHOMP  “I “I’m  \n",
            "0                0                       0        0  \n",
            "1                0                       0        0  \n",
            "2                0                       0        0  \n",
            "3                0                       0        0  \n",
            "4                0                       0        0  \n",
            "\n",
            "[5 rows x 1572 columns]\n"
          ]
        }
      ],
      "source": [
        "# create dummy variables\n",
        "dummy_vars = pd.get_dummies(data['message'])\n",
        "\n",
        "# concatenate the dummy variables with the original dataframe\n",
        "data_with_dummies = pd.concat([data, dummy_vars], axis=1)\n",
        "\n",
        "# drop the original message column\n",
        "data_with_dummies = data_with_dummies.drop('message', axis=1)\n",
        "\n",
        "data_with_dummies = pd.DataFrame(data_with_dummies)\n",
        "\n",
        "# preview the resulting dataframe\n",
        "print(data_with_dummies.head())"
      ]
    },
    {
      "cell_type": "code",
      "execution_count": 10,
      "metadata": {
        "id": "TeqlTdhYq-8H"
      },
      "outputs": [],
      "source": [
        "data_with_dummies = data_with_dummies.set_index('timestamp')"
      ]
    },
    {
      "cell_type": "code",
      "execution_count": 11,
      "metadata": {
        "id": "1-qucgDxqDCW"
      },
      "outputs": [],
      "source": [
        "data_t = data_with_dummies.T"
      ]
    },
    {
      "cell_type": "code",
      "execution_count": 12,
      "metadata": {
        "colab": {
          "base_uri": "https://localhost:8080/",
          "height": 236
        },
        "id": "gNROdU6Gqr8k",
        "outputId": "bc3bc5b8-13e3-4f4b-cc99-1d8ca25417e9"
      },
      "outputs": [
        {
          "output_type": "execute_result",
          "data": {
            "text/plain": [
              "timestamp           0.3167    0.3667    0.5333    0.6167    0.7000    \\\n",
              "\"ALIENS\" I                 0         0         0         0         0   \n",
              "\"I'm                       0         0         0         0         0   \n",
              "\"Layna 4Head DEAD\"         0         0         0         0         0   \n",
              "\"Must've                   0         0         0         0         0   \n",
              "\"SAAAAAAAAAAAAM\" A         0         0         0         0         0   \n",
              "\n",
              "timestamp           0.7833    0.8167    0.8667    0.9500    1.2000    ...  \\\n",
              "\"ALIENS\" I                 0         0         0         0         0  ...   \n",
              "\"I'm                       0         0         0         0         0  ...   \n",
              "\"Layna 4Head DEAD\"         0         0         0         0         0  ...   \n",
              "\"Must've                   0         0         0         0         0  ...   \n",
              "\"SAAAAAAAAAAAAM\" A         0         0         0         0         0  ...   \n",
              "\n",
              "timestamp           302.5667  302.6000  302.6167  302.6500  302.8167  \\\n",
              "\"ALIENS\" I                 0         0         0         0         0   \n",
              "\"I'm                       0         0         0         0         0   \n",
              "\"Layna 4Head DEAD\"         0         0         0         0         0   \n",
              "\"Must've                   0         0         0         0         0   \n",
              "\"SAAAAAAAAAAAAM\" A         0         0         0         0         0   \n",
              "\n",
              "timestamp           302.8833  302.9333  302.9500  302.9833  303.0000  \n",
              "\"ALIENS\" I                 0         0         0         0         0  \n",
              "\"I'm                       0         0         0         0         0  \n",
              "\"Layna 4Head DEAD\"         0         0         0         0         0  \n",
              "\"Must've                   0         0         0         0         0  \n",
              "\"SAAAAAAAAAAAAM\" A         0         0         0         0         0  \n",
              "\n",
              "[5 rows x 3446 columns]"
            ],
            "text/html": [
              "\n",
              "  <div id=\"df-70ae1fe9-fc36-4eee-8b63-613a17dc4474\">\n",
              "    <div class=\"colab-df-container\">\n",
              "      <div>\n",
              "<style scoped>\n",
              "    .dataframe tbody tr th:only-of-type {\n",
              "        vertical-align: middle;\n",
              "    }\n",
              "\n",
              "    .dataframe tbody tr th {\n",
              "        vertical-align: top;\n",
              "    }\n",
              "\n",
              "    .dataframe thead th {\n",
              "        text-align: right;\n",
              "    }\n",
              "</style>\n",
              "<table border=\"1\" class=\"dataframe\">\n",
              "  <thead>\n",
              "    <tr style=\"text-align: right;\">\n",
              "      <th>timestamp</th>\n",
              "      <th>0.3167</th>\n",
              "      <th>0.3667</th>\n",
              "      <th>0.5333</th>\n",
              "      <th>0.6167</th>\n",
              "      <th>0.7000</th>\n",
              "      <th>0.7833</th>\n",
              "      <th>0.8167</th>\n",
              "      <th>0.8667</th>\n",
              "      <th>0.9500</th>\n",
              "      <th>1.2000</th>\n",
              "      <th>...</th>\n",
              "      <th>302.5667</th>\n",
              "      <th>302.6000</th>\n",
              "      <th>302.6167</th>\n",
              "      <th>302.6500</th>\n",
              "      <th>302.8167</th>\n",
              "      <th>302.8833</th>\n",
              "      <th>302.9333</th>\n",
              "      <th>302.9500</th>\n",
              "      <th>302.9833</th>\n",
              "      <th>303.0000</th>\n",
              "    </tr>\n",
              "  </thead>\n",
              "  <tbody>\n",
              "    <tr>\n",
              "      <th>\"ALIENS\" I</th>\n",
              "      <td>0</td>\n",
              "      <td>0</td>\n",
              "      <td>0</td>\n",
              "      <td>0</td>\n",
              "      <td>0</td>\n",
              "      <td>0</td>\n",
              "      <td>0</td>\n",
              "      <td>0</td>\n",
              "      <td>0</td>\n",
              "      <td>0</td>\n",
              "      <td>...</td>\n",
              "      <td>0</td>\n",
              "      <td>0</td>\n",
              "      <td>0</td>\n",
              "      <td>0</td>\n",
              "      <td>0</td>\n",
              "      <td>0</td>\n",
              "      <td>0</td>\n",
              "      <td>0</td>\n",
              "      <td>0</td>\n",
              "      <td>0</td>\n",
              "    </tr>\n",
              "    <tr>\n",
              "      <th>\"I'm</th>\n",
              "      <td>0</td>\n",
              "      <td>0</td>\n",
              "      <td>0</td>\n",
              "      <td>0</td>\n",
              "      <td>0</td>\n",
              "      <td>0</td>\n",
              "      <td>0</td>\n",
              "      <td>0</td>\n",
              "      <td>0</td>\n",
              "      <td>0</td>\n",
              "      <td>...</td>\n",
              "      <td>0</td>\n",
              "      <td>0</td>\n",
              "      <td>0</td>\n",
              "      <td>0</td>\n",
              "      <td>0</td>\n",
              "      <td>0</td>\n",
              "      <td>0</td>\n",
              "      <td>0</td>\n",
              "      <td>0</td>\n",
              "      <td>0</td>\n",
              "    </tr>\n",
              "    <tr>\n",
              "      <th>\"Layna 4Head DEAD\"</th>\n",
              "      <td>0</td>\n",
              "      <td>0</td>\n",
              "      <td>0</td>\n",
              "      <td>0</td>\n",
              "      <td>0</td>\n",
              "      <td>0</td>\n",
              "      <td>0</td>\n",
              "      <td>0</td>\n",
              "      <td>0</td>\n",
              "      <td>0</td>\n",
              "      <td>...</td>\n",
              "      <td>0</td>\n",
              "      <td>0</td>\n",
              "      <td>0</td>\n",
              "      <td>0</td>\n",
              "      <td>0</td>\n",
              "      <td>0</td>\n",
              "      <td>0</td>\n",
              "      <td>0</td>\n",
              "      <td>0</td>\n",
              "      <td>0</td>\n",
              "    </tr>\n",
              "    <tr>\n",
              "      <th>\"Must've</th>\n",
              "      <td>0</td>\n",
              "      <td>0</td>\n",
              "      <td>0</td>\n",
              "      <td>0</td>\n",
              "      <td>0</td>\n",
              "      <td>0</td>\n",
              "      <td>0</td>\n",
              "      <td>0</td>\n",
              "      <td>0</td>\n",
              "      <td>0</td>\n",
              "      <td>...</td>\n",
              "      <td>0</td>\n",
              "      <td>0</td>\n",
              "      <td>0</td>\n",
              "      <td>0</td>\n",
              "      <td>0</td>\n",
              "      <td>0</td>\n",
              "      <td>0</td>\n",
              "      <td>0</td>\n",
              "      <td>0</td>\n",
              "      <td>0</td>\n",
              "    </tr>\n",
              "    <tr>\n",
              "      <th>\"SAAAAAAAAAAAAM\" A</th>\n",
              "      <td>0</td>\n",
              "      <td>0</td>\n",
              "      <td>0</td>\n",
              "      <td>0</td>\n",
              "      <td>0</td>\n",
              "      <td>0</td>\n",
              "      <td>0</td>\n",
              "      <td>0</td>\n",
              "      <td>0</td>\n",
              "      <td>0</td>\n",
              "      <td>...</td>\n",
              "      <td>0</td>\n",
              "      <td>0</td>\n",
              "      <td>0</td>\n",
              "      <td>0</td>\n",
              "      <td>0</td>\n",
              "      <td>0</td>\n",
              "      <td>0</td>\n",
              "      <td>0</td>\n",
              "      <td>0</td>\n",
              "      <td>0</td>\n",
              "    </tr>\n",
              "  </tbody>\n",
              "</table>\n",
              "<p>5 rows × 3446 columns</p>\n",
              "</div>\n",
              "      <button class=\"colab-df-convert\" onclick=\"convertToInteractive('df-70ae1fe9-fc36-4eee-8b63-613a17dc4474')\"\n",
              "              title=\"Convert this dataframe to an interactive table.\"\n",
              "              style=\"display:none;\">\n",
              "        \n",
              "  <svg xmlns=\"http://www.w3.org/2000/svg\" height=\"24px\"viewBox=\"0 0 24 24\"\n",
              "       width=\"24px\">\n",
              "    <path d=\"M0 0h24v24H0V0z\" fill=\"none\"/>\n",
              "    <path d=\"M18.56 5.44l.94 2.06.94-2.06 2.06-.94-2.06-.94-.94-2.06-.94 2.06-2.06.94zm-11 1L8.5 8.5l.94-2.06 2.06-.94-2.06-.94L8.5 2.5l-.94 2.06-2.06.94zm10 10l.94 2.06.94-2.06 2.06-.94-2.06-.94-.94-2.06-.94 2.06-2.06.94z\"/><path d=\"M17.41 7.96l-1.37-1.37c-.4-.4-.92-.59-1.43-.59-.52 0-1.04.2-1.43.59L10.3 9.45l-7.72 7.72c-.78.78-.78 2.05 0 2.83L4 21.41c.39.39.9.59 1.41.59.51 0 1.02-.2 1.41-.59l7.78-7.78 2.81-2.81c.8-.78.8-2.07 0-2.86zM5.41 20L4 18.59l7.72-7.72 1.47 1.35L5.41 20z\"/>\n",
              "  </svg>\n",
              "      </button>\n",
              "      \n",
              "  <style>\n",
              "    .colab-df-container {\n",
              "      display:flex;\n",
              "      flex-wrap:wrap;\n",
              "      gap: 12px;\n",
              "    }\n",
              "\n",
              "    .colab-df-convert {\n",
              "      background-color: #E8F0FE;\n",
              "      border: none;\n",
              "      border-radius: 50%;\n",
              "      cursor: pointer;\n",
              "      display: none;\n",
              "      fill: #1967D2;\n",
              "      height: 32px;\n",
              "      padding: 0 0 0 0;\n",
              "      width: 32px;\n",
              "    }\n",
              "\n",
              "    .colab-df-convert:hover {\n",
              "      background-color: #E2EBFA;\n",
              "      box-shadow: 0px 1px 2px rgba(60, 64, 67, 0.3), 0px 1px 3px 1px rgba(60, 64, 67, 0.15);\n",
              "      fill: #174EA6;\n",
              "    }\n",
              "\n",
              "    [theme=dark] .colab-df-convert {\n",
              "      background-color: #3B4455;\n",
              "      fill: #D2E3FC;\n",
              "    }\n",
              "\n",
              "    [theme=dark] .colab-df-convert:hover {\n",
              "      background-color: #434B5C;\n",
              "      box-shadow: 0px 1px 3px 1px rgba(0, 0, 0, 0.15);\n",
              "      filter: drop-shadow(0px 1px 2px rgba(0, 0, 0, 0.3));\n",
              "      fill: #FFFFFF;\n",
              "    }\n",
              "  </style>\n",
              "\n",
              "      <script>\n",
              "        const buttonEl =\n",
              "          document.querySelector('#df-70ae1fe9-fc36-4eee-8b63-613a17dc4474 button.colab-df-convert');\n",
              "        buttonEl.style.display =\n",
              "          google.colab.kernel.accessAllowed ? 'block' : 'none';\n",
              "\n",
              "        async function convertToInteractive(key) {\n",
              "          const element = document.querySelector('#df-70ae1fe9-fc36-4eee-8b63-613a17dc4474');\n",
              "          const dataTable =\n",
              "            await google.colab.kernel.invokeFunction('convertToInteractive',\n",
              "                                                     [key], {});\n",
              "          if (!dataTable) return;\n",
              "\n",
              "          const docLinkHtml = 'Like what you see? Visit the ' +\n",
              "            '<a target=\"_blank\" href=https://colab.research.google.com/notebooks/data_table.ipynb>data table notebook</a>'\n",
              "            + ' to learn more about interactive tables.';\n",
              "          element.innerHTML = '';\n",
              "          dataTable['output_type'] = 'display_data';\n",
              "          await google.colab.output.renderOutput(dataTable, element);\n",
              "          const docLink = document.createElement('div');\n",
              "          docLink.innerHTML = docLinkHtml;\n",
              "          element.appendChild(docLink);\n",
              "        }\n",
              "      </script>\n",
              "    </div>\n",
              "  </div>\n",
              "  "
            ]
          },
          "metadata": {},
          "execution_count": 12
        }
      ],
      "source": [
        "data_t.head()"
      ]
    },
    {
      "cell_type": "code",
      "execution_count": 13,
      "metadata": {
        "colab": {
          "base_uri": "https://localhost:8080/"
        },
        "id": "_iF5gbTup4f6",
        "outputId": "1f0ba591-5b5a-4402-f0a2-c9077626859c"
      },
      "outputs": [
        {
          "output_type": "stream",
          "name": "stdout",
          "text": [
            "Looking in indexes: https://pypi.org/simple, https://us-python.pkg.dev/colab-wheels/public/simple/\n",
            "Requirement already satisfied: nltk in /usr/local/lib/python3.10/dist-packages (3.8.1)\n",
            "Requirement already satisfied: click in /usr/local/lib/python3.10/dist-packages (from nltk) (8.1.3)\n",
            "Requirement already satisfied: joblib in /usr/local/lib/python3.10/dist-packages (from nltk) (1.2.0)\n",
            "Requirement already satisfied: regex>=2021.8.3 in /usr/local/lib/python3.10/dist-packages (from nltk) (2022.10.31)\n",
            "Requirement already satisfied: tqdm in /usr/local/lib/python3.10/dist-packages (from nltk) (4.65.0)\n"
          ]
        }
      ],
      "source": [
        "pip install nltk"
      ]
    },
    {
      "cell_type": "code",
      "execution_count": 14,
      "metadata": {
        "colab": {
          "base_uri": "https://localhost:8080/"
        },
        "id": "AEThDC8pp8xk",
        "outputId": "858e0ddc-2b05-4917-e87b-836d4789086b"
      },
      "outputs": [
        {
          "output_type": "stream",
          "name": "stderr",
          "text": [
            "[nltk_data] Downloading package stopwords to /root/nltk_data...\n",
            "[nltk_data]   Package stopwords is already up-to-date!\n"
          ]
        }
      ],
      "source": [
        "import nltk\n",
        "nltk.download('stopwords')\n",
        "from nltk.corpus import stopwords\n",
        "\n",
        "stop_words = set(stopwords.words('english'))"
      ]
    },
    {
      "cell_type": "code",
      "execution_count": 15,
      "metadata": {
        "id": "KJkY79GUoQsT"
      },
      "outputs": [],
      "source": [
        "\n",
        "# trying to strip stop-words\n",
        "# def is_significant(word):\n",
        "#     return word not in stop_words\n",
        "\n",
        "# def main():\n",
        "#     result = []\n",
        "\n",
        "#     for _, row in data_t.iterrows():\n",
        "#         word = str(row.iloc[0]).strip()\n",
        "\n",
        "#         if is_significant(word):\n",
        "#             new_line = '\\t'.join(str(v) for v in row)\n",
        "#             result.append(new_line)\n",
        "\n",
        "#     output = '\\n'.join(result)\n",
        "#     print(output)\n",
        "\n",
        "# if __name__ == '__main__':\n",
        "#     main()\n",
        "\n",
        "\n"
      ]
    },
    {
      "cell_type": "code",
      "execution_count": 16,
      "metadata": {
        "colab": {
          "base_uri": "https://localhost:8080/"
        },
        "id": "YbZtjROur9dF",
        "outputId": "c0d5b2d2-2404-4a04-b887-f147eba42f3f"
      },
      "outputs": [
        {
          "output_type": "stream",
          "name": "stdout",
          "text": [
            "timestamp     words  0.3167  0.3667  0.5333  0.6167  0.7  0.7833  0.8167  \\\n",
            "0          \"ALIENS\"       0       0       0       0    0       0       0   \n",
            "1                 I       0       0       0       0    0       0       0   \n",
            "2              \"I'm       0       0       0       0    0       0       0   \n",
            "3            \"Layna       0       0       0       0    0       0       0   \n",
            "4             4Head       0       0       0       0    0       0       0   \n",
            "\n",
            "timestamp  0.8667  0.95  ...  302.5667  302.6  302.6167  302.65  302.8167  \\\n",
            "0               0     0  ...         0      0         0       0         0   \n",
            "1               0     0  ...         0      0         0       0         0   \n",
            "2               0     0  ...         0      0         0       0         0   \n",
            "3               0     0  ...         0      0         0       0         0   \n",
            "4               0     0  ...         0      0         0       0         0   \n",
            "\n",
            "timestamp  302.8833  302.9333  302.95  302.9833  303.0  \n",
            "0                 0         0       0         0      0  \n",
            "1                 0         0       0         0      0  \n",
            "2                 0         0       0         0      0  \n",
            "3                 0         0       0         0      0  \n",
            "4                 0         0       0         0      0  \n",
            "\n",
            "[5 rows x 2766 columns]\n"
          ]
        }
      ],
      "source": [
        "import numpy as np\n",
        "\n",
        "n_messages = 1000\n",
        "\n",
        "# Creating a copy of the first x rows of the DataFrame to avoid modifying the original one\n",
        "data_t_copy = data_t.iloc[:n_messages].copy()\n",
        "\n",
        "# Grouping by column names and using max() to maintain values\n",
        "data_t_copy = data_t_copy.groupby(data_t_copy.columns, axis=1).max()\n",
        "\n",
        "# Resetting the index to use a new column name for the first column\n",
        "data_t_copy.reset_index(inplace=True)\n",
        "data_t_copy.rename(columns={\"index\": \"words\"}, inplace=True)\n",
        "\n",
        "# Converting the 'words' column to a string data type\n",
        "data_t_copy['words'] = data_t_copy['words'].astype(str)\n",
        "\n",
        "# Splitting the words in the 'words' column\n",
        "words_split = data_t_copy['words'].str.split()\n",
        "\n",
        "# Creating a new DataFrame with individual words in each row while maintaining the values in the columns\n",
        "data_list = []\n",
        "for index, row in data_t_copy.iterrows():\n",
        "    for word in words_split[index]:\n",
        "        new_row = row.copy()\n",
        "        new_row['words'] = word\n",
        "        data_list.append(new_row)\n",
        "\n",
        "df_expanded = pd.DataFrame(data_list).reset_index(drop=True)\n",
        "\n",
        "df_expanded = df_expanded.iloc[:n_messages].copy()\n",
        "\n",
        "print(df_expanded.head())\n",
        "\n",
        "\n",
        "\n"
      ]
    },
    {
      "cell_type": "code",
      "execution_count": 17,
      "metadata": {
        "id": "isJnm2yGsnr4"
      },
      "outputs": [],
      "source": [
        "import pandas as pd\n",
        "import numpy as np\n",
        "\n",
        "# Convert the first row to a list of floats, representing timestamps in minutes\n",
        "timestamps = [float(x) for x in df_expanded.columns[2:]]\n",
        "\n",
        "second_interval = 60\n",
        "\n",
        "# Convert the timestamps from minutes to seconds\n",
        "timestamps = [ts * 60 for ts in timestamps]\n",
        "\n",
        "\n",
        "# Create a mapping of column names to their corresponding group (every 30 seconds)\n",
        "group_mapping = {col: int(ts // second_interval) for col, ts in zip(df_expanded.columns[2:], timestamps)}\n",
        "\n",
        "# Transpose the DataFrame (excluding the first row and 'words' column), so that columns become rows\n",
        "data_transposed = df_expanded.drop(df_expanded.index[0]).drop('words', axis=1).T\n",
        "\n",
        "# Group the transposed DataFrame by the group mapping and take the maximum value in each group\n",
        "grouped_data = data_transposed.groupby(group_mapping).max()\n",
        "\n",
        "# Transpose the grouped data back and reset the index\n",
        "grouped_df = grouped_data.T\n",
        "\n",
        "# Add the 'words' column back to the grouped DataFrame\n",
        "grouped_df.insert(0, 'words', df_expanded['words'][1:])\n",
        "\n",
        "\n",
        "\n",
        "\n"
      ]
    },
    {
      "cell_type": "code",
      "execution_count": 18,
      "metadata": {
        "colab": {
          "base_uri": "https://localhost:8080/"
        },
        "id": "sFSPU0MNuVmL",
        "outputId": "522c5522-b558-4f59-a1ff-dfff6b711230"
      },
      "outputs": [
        {
          "output_type": "stream",
          "name": "stdout",
          "text": [
            "timestamp   words  0.0  1.0  2.0  3.0  4.0  6.0  7.0  8.0  9.0  ...  294.0  \\\n",
            "1               I    0    0    0    0    0    0    0    0    0  ...      0   \n",
            "2            \"I'm    0    0    0    0    0    0    0    0    0  ...      0   \n",
            "3          \"Layna    0    0    0    0    0    0    0    0    0  ...      0   \n",
            "4           4Head    0    0    0    0    0    0    0    0    0  ...      0   \n",
            "5           DEAD\"    0    0    0    0    0    0    0    0    0  ...      0   \n",
            "\n",
            "timestamp  295.0  296.0  297.0  298.0  299.0  300.0  301.0  302.0  303.0  \n",
            "1              0      0      0      0      0      0      0      0      0  \n",
            "2              0      0      0      0      0      0      0      0      0  \n",
            "3              0      0      0      0      0      0      0      0      0  \n",
            "4              0      0      0      0      0      0      0      0      0  \n",
            "5              0      0      0      0      0      0      0      0      0  \n",
            "\n",
            "[5 rows x 295 columns]\n",
            "<class 'pandas.core.frame.DataFrame'>\n",
            "RangeIndex: 999 entries, 1 to 999\n",
            "Columns: 295 entries, words to 303.0\n",
            "dtypes: int64(294), object(1)\n",
            "memory usage: 2.2+ MB\n",
            "None\n"
          ]
        }
      ],
      "source": [
        "print(grouped_df.head())\n",
        "print(grouped_df.info())"
      ]
    },
    {
      "cell_type": "code",
      "source": [
        "# ###Rapidfuzz word matching\n",
        "# !pip install rapidfuzz\n",
        "# from rapidfuzz import fuzz, process\n",
        "\n",
        "# import pandas as pd\n",
        "\n",
        "# # Sample dataframe\n",
        "\n",
        "# df = grouped_df\n",
        "\n",
        "# fuzz_ratio = 95\n",
        "\n",
        "# words = df['words'].unique()\n",
        "# mapping = {}\n",
        "# for word in words:\n",
        "#     potential_matches = [m for m in mapping.keys() if fuzz.ratio(m, word) > fuzz_ratio]\n",
        "#     if potential_matches:\n",
        "#         mapping[word] = mapping[potential_matches[0]]\n",
        "#     else:\n",
        "#         mapping[word] = word\n",
        "\n",
        "# df['words'] = df['words'].map(mapping)\n",
        "\n",
        "# combined_df = df.groupby('words').max().reset_index()\n",
        "\n",
        "# print(combined_df.head())\n",
        "#print(combined_df.info())\n"
      ],
      "metadata": {
        "id": "HUwho9JJC0Mk"
      },
      "execution_count": 20,
      "outputs": []
    },
    {
      "cell_type": "code",
      "source": [
        "\n",
        "# ###FUZZYWUZZY word matching\n",
        "# #transforming similar words into a standard form, then combining rows with identical words\n",
        "# !pip install fuzzywuzzy\n",
        "# from fuzzywuzzy import fuzz\n",
        "# from fuzzywuzzy import process\n",
        "\n",
        "# # step 1: create mapping of words to standard form\n",
        "\n",
        "# #fuzz ratio toggles the amount of similarity between words that combines them\n",
        "# fuzz_ratio=95\n",
        "\n",
        "# words = grouped_df['words'].unique()\n",
        "# mapping = {}\n",
        "# for word in words:\n",
        "#     # find existing keys in mapping that are a close match to word\n",
        "#     potential_matches = [m for m in mapping.keys() if fuzz.ratio(m, word) > fuzz_ratio]\n",
        "#     if potential_matches:\n",
        "#         # if there are close matches, map word to the first match\n",
        "#         mapping[word] = mapping[potential_matches[0]]\n",
        "#     else:\n",
        "#         # if there are no close matches, map word to itself\n",
        "#         mapping[word] = word\n",
        "\n",
        "# # step 2: apply mapping to dataframe\n",
        "# grouped_df['words'] = grouped_df['words'].map(mapping)\n",
        "\n",
        "# # step 3: combine rows with the same standard form\n",
        "# combined_df = grouped_df.groupby('words').max().reset_index()\n",
        "\n",
        "\n",
        "# print(combined_df.head())\n",
        "# print(combined_df.info())\n"
      ],
      "metadata": {
        "id": "miWAzyCzDLxA"
      },
      "execution_count": 21,
      "outputs": []
    },
    {
      "cell_type": "code",
      "source": [
        "### word matching analysis###\n",
        "### use only for analysis of word matching.\n",
        "\n",
        "from rapidfuzz import fuzz, process\n",
        "import pandas as pd\n",
        "\n",
        "# Sample dataframe\n",
        "\n",
        "df = grouped_df\n",
        "\n",
        "# Fuzz ratios to test\n",
        "fuzz_ratios = range(70, 100)\n",
        "\n",
        "# Initialize a dictionary to store mappings for each fuzz_ratio\n",
        "mappings = {}\n",
        "\n",
        "for fuzz_ratio in fuzz_ratios:\n",
        "    words = df['words'].unique()\n",
        "    mapping = {}\n",
        "    for word in words:\n",
        "        potential_matches = [m for m in mapping.keys() if fuzz.ratio(m, word) > fuzz_ratio]\n",
        "        if potential_matches:\n",
        "            mapping[word] = mapping[potential_matches[0]]\n",
        "        else:\n",
        "            mapping[word] = word\n",
        "    mappings[fuzz_ratio] = mapping\n",
        "\n",
        "# Write mappings to a text file\n",
        "with open('fuzzy_mapping.txt', 'w') as f:\n",
        "    for fuzz_ratio, mapping in mappings.items():\n",
        "        f.write(f'Fuzz ratio: {fuzz_ratio}\\n')\n",
        "        for word, standard_form in mapping.items():\n",
        "            if word != standard_form:\n",
        "                f.write(f'  Word: {word} -> Standard form: {standard_form}\\n')\n",
        "        f.write('\\n')\n"
      ],
      "metadata": {
        "id": "NH6l0gDaGOE2"
      },
      "execution_count": 25,
      "outputs": []
    },
    {
      "cell_type": "code",
      "execution_count": 21,
      "metadata": {
        "id": "igDAQNxD1Nau"
      },
      "outputs": [],
      "source": [
        "#!pip install tslearn"
      ]
    },
    {
      "cell_type": "code",
      "execution_count": 22,
      "metadata": {
        "id": "YupSJSMM2U91"
      },
      "outputs": [],
      "source": [
        "# #Clustering Method 1: Kmeans with dynamic time warping\n",
        "# #prohibitively slow in current form\n",
        "# import numpy as np\n",
        "# from tslearn.clustering import TimeSeriesKMeans\n",
        "# from tslearn.preprocessing import TimeSeriesScalerMeanVariance\n",
        "\n",
        "# # Assuming df_expanded is the dataframe you want to cluster\n",
        "# # Remove the first column (words) and transpose the remaining data for clustering\n",
        "# data_to_cluster = df_expanded.iloc[:, 1:]\n",
        "\n",
        "# # Scale the time series data\n",
        "# scaler = TimeSeriesScalerMeanVariance()\n",
        "# data_scaled = scaler.fit_transform(data_to_cluster)\n",
        "\n",
        "# # Define the number of clusters\n",
        "# n_clusters = 2\n",
        "\n",
        "# # Perform k-means clustering using DTW distance\n",
        "# kmeans_dtw = TimeSeriesKMeans(n_clusters=n_clusters, metric='dtw', random_state=42)\n",
        "# labels = kmeans_dtw.fit_predict(data_scaled)\n",
        "\n",
        "# # Print cluster labels for each time series\n",
        "# print(labels)\n",
        "# SET PARAMS FOR SCORING TRACKER\n",
        "# algo = TimeSeriesKMeans\n",
        "# dist = dtw"
      ]
    },
    {
      "cell_type": "code",
      "execution_count": 23,
      "metadata": {
        "id": "AQHfDptA2fG0"
      },
      "outputs": [],
      "source": [
        "# print(labels)"
      ]
    },
    {
      "cell_type": "code",
      "execution_count": 24,
      "metadata": {
        "id": "vTN1FsE5Paer"
      },
      "outputs": [],
      "source": [
        "# np.savetxt('labels.csv', labels, delimiter=',')"
      ]
    },
    {
      "cell_type": "code",
      "execution_count": 25,
      "metadata": {
        "id": "l-da_BWnJo-X"
      },
      "outputs": [],
      "source": [
        "# #Clustering Method 2: Hierarchical with dynamic time warping"
      ]
    },
    {
      "cell_type": "code",
      "source": [
        "#record data size being clustered\n",
        "\n",
        "data_size = combined_df.size"
      ],
      "metadata": {
        "id": "WqAC9D6lWK5S"
      },
      "execution_count": 26,
      "outputs": []
    },
    {
      "cell_type": "code",
      "execution_count": 27,
      "metadata": {
        "colab": {
          "base_uri": "https://localhost:8080/"
        },
        "id": "mjRXnqkRTuS7",
        "outputId": "1064bc0c-fd58-40f9-c2f0-84dffb3dd877"
      },
      "outputs": [
        {
          "output_type": "stream",
          "name": "stdout",
          "text": [
            "Looking in indexes: https://pypi.org/simple, https://us-python.pkg.dev/colab-wheels/public/simple/\n",
            "Collecting dtaidistance\n",
            "  Downloading dtaidistance-2.3.10-cp310-cp310-manylinux_2_17_x86_64.manylinux2014_x86_64.whl (2.4 MB)\n",
            "\u001b[2K     \u001b[90m━━━━━━━━━━━━━━━━━━━━━━━━━━━━━━━━━━━━━━━━\u001b[0m \u001b[32m2.4/2.4 MB\u001b[0m \u001b[31m25.6 MB/s\u001b[0m eta \u001b[36m0:00:00\u001b[0m\n",
            "\u001b[?25hRequirement already satisfied: numpy in /usr/local/lib/python3.10/dist-packages (from dtaidistance) (1.22.4)\n",
            "Installing collected packages: dtaidistance\n",
            "Successfully installed dtaidistance-2.3.10\n"
          ]
        }
      ],
      "source": [
        "pip install dtaidistance"
      ]
    },
    {
      "cell_type": "code",
      "execution_count": 28,
      "metadata": {
        "colab": {
          "base_uri": "https://localhost:8080/",
          "height": 590
        },
        "id": "pU3CmaiHTwOp",
        "outputId": "9b7f2a05-1ae0-433b-cf7a-d74ea8b4dd90"
      },
      "outputs": [
        {
          "output_type": "stream",
          "name": "stdout",
          "text": [
            "Computing distance matrix...\n",
            "Distance matrix computed in:  120.09247875213623  seconds\n",
            "Performing hierarchical clustering...\n",
            "Clustering performed in:  0.009598731994628906  seconds\n"
          ]
        },
        {
          "output_type": "stream",
          "name": "stderr",
          "text": [
            "/usr/local/lib/python3.10/dist-packages/sklearn/cluster/_agglomerative.py:983: FutureWarning: Attribute `affinity` was deprecated in version 1.2 and will be removed in 1.4. Use `metric` instead\n",
            "  warnings.warn(\n"
          ]
        },
        {
          "output_type": "display_data",
          "data": {
            "text/plain": [
              "<Figure size 1500x500 with 1 Axes>"
            ],
            "image/png": "[encoded data removed]"
          },
          "metadata": {}
        },
        {
          "output_type": "stream",
          "name": "stdout",
          "text": [
            "For the interval of  60 clustering time:  0.009598731994628906\n"
          ]
        }
      ],
      "source": [
        "from sklearn.cluster import AgglomerativeClustering\n",
        "from scipy.cluster.hierarchy import dendrogram\n",
        "from dtaidistance import dtw\n",
        "import matplotlib.pyplot as plt\n",
        "import time\n",
        "from tqdm import tqdm\n",
        "\n",
        "def plot_dendrogram(model, **kwargs):\n",
        "    # Create linkage matrix and then plot the dendrogram\n",
        "\n",
        "    # create the counts of samples under each node\n",
        "    counts = np.zeros(model.children_.shape[0])\n",
        "    n_samples = len(model.labels_)\n",
        "    for i, merge in enumerate(model.children_):\n",
        "        current_count = 0\n",
        "        for child_idx in merge:\n",
        "            if child_idx < n_samples:\n",
        "                current_count += 1  # leaf node\n",
        "            else:\n",
        "                current_count += counts[child_idx - n_samples]\n",
        "        counts[i] = current_count\n",
        "\n",
        "    linkage_matrix = np.column_stack([model.children_, model.distances_,\n",
        "                                      counts]).astype(float)\n",
        "\n",
        "    # Plot the corresponding dendrogram\n",
        "    dendrogram(linkage_matrix, **kwargs)\n",
        "\n",
        "df_expanded = combined_df\n",
        "data = df_expanded.to_numpy()\n",
        "\n",
        "# Remove the first column (text)\n",
        "numeric_data = data[:, 1:].astype(np.float64)\n",
        "\n",
        "# Compute the pairwise distance matrix using DTW\n",
        "start = time.time()\n",
        "print(\"Computing distance matrix...\")\n",
        "mp = True\n",
        "distance_matrix = dtw.distance_matrix_fast(numeric_data, use_mp=mp)\n",
        "end = time.time()\n",
        "print(\"Distance matrix computed in: \", end - start, \" seconds\")\n",
        "dist_time = end - start\n",
        "\n",
        "# Perform hierarchical clustering using the distance matrix\n",
        "start = time.time()\n",
        "print(\"Performing hierarchical clustering...\")\n",
        "distance_threshold = 2\n",
        "n_clusters = None\n",
        "affinity = 'precomputed'\n",
        "linkage='complete'\n",
        "model = AgglomerativeClustering(distance_threshold=distance_threshold, n_clusters=n_clusters, affinity=affinity, linkage=linkage)\n",
        "model = model.fit(distance_matrix)\n",
        "end = time.time()\n",
        "print(\"Clustering performed in: \", end - start, \" seconds\")\n",
        "algo_time = end-start\n",
        "\n",
        "# Plot the dendrogram\n",
        "fig, ax = plt.subplots(figsize=(15, 5))\n",
        "plot_dendrogram(model, truncate_mode='level', p=3, ax=ax)\n",
        "plt.xlabel(\"Number of points in node (or index of point if no parenthesis)\")\n",
        "plt.show()\n",
        "\n",
        "print(\"For the interval of \", second_interval, \"clustering time: \", end - start)\n",
        "\n",
        "# SET PARAMS FOR SCORING TRACKER\n",
        "algo = \"AgglomerativeClustering\"\n",
        "dist = \"dtw\"\n",
        "\n",
        "\n"
      ]
    },
    {
      "cell_type": "code",
      "execution_count": 29,
      "metadata": {
        "id": "1W7vRqb3n97E"
      },
      "outputs": [],
      "source": [
        "labels = model.labels_"
      ]
    },
    {
      "cell_type": "code",
      "execution_count": 30,
      "metadata": {
        "id": "OJVtqrblqJVf",
        "colab": {
          "base_uri": "https://localhost:8080/"
        },
        "outputId": "6d0e854c-5ed3-44ae-b831-bc2f8e56cd3a"
      },
      "outputs": [
        {
          "output_type": "stream",
          "name": "stdout",
          "text": [
            "[0 0 0 0 0 0 0 0 0 0 0 0 0 0 0 0 0 0 1 0 0 0 2 0 0 0 0 0 0 0 0 0 0 0 0 0 0\n",
            " 2 0 0 0 0 0 0 0 0 0 0 0 0 0 0 0 0 0 0 0 0 0 0 0 0 0 0 0 0 0 0 0 0 0 0 0 0\n",
            " 3 0 0 0 0 0 0 0 0 0 0 0 0 0 0 0 0 0 0 0 0 0 0 0 0 0 0 0 0 0 0 0 0 0 0 0 0\n",
            " 0 0 5 0 0 0 0 0 0 0 0 0 0 0 0 0 0 0 0 0 0 0 0 0 0 5 0 0 0 0 2 0 0 0 0 0 0\n",
            " 0 0 0 0 0 0 0 0 0 0 0 0 0 0 0 0 0 0 0 0 0 0 0 0 0 0 0 0 0 0 0 0 0 0 0 0 0\n",
            " 0 2 6 0 2 0 0 0 2 0 0 0 0 0 0 5 1 0 0 0 2 0 0 0 0 0 0 0 0 0 0 0 0 0 0 0 0\n",
            " 0 0 0 0 0 0 0 0 0 0 0 3 0 0 0 0 0 0 0 0 0 0 0 0 0 0 0 0 0 0 0 0 0 0 0 0 0\n",
            " 0 0 0 0 0 0 0 0 0 0 0 0 0 0 0 0 0 0 0 0 0 2 0 0 0 0 1 0 0 0 0 0 0 0 0 0 0\n",
            " 0 0 0 0 0 0 0 0 0 0 0 0 0 0 0 0 0 2 0 0 0 0 0 0 0 0 0 0 0 0 0 0 0 0 0 0 0\n",
            " 0 0 0 5 0 0 0 0 0 0 6 0 0 0 0 0 0 2 0 0 0 0 0 0 0 0 0 0 0 0 0 0 0 0 0 0 0\n",
            " 0 0 0 0 4 0 0 0 0 0 0 0 0 0 0 0 4 0 0 0 0 0 0 0 0 0 0 0 0 0 0 0 0 2 0 0 0\n",
            " 0 0 7 0 0 4 0 0 0 0 0 0 0 0 0 0 0 0 0 0 0 0 0 0 0 0 0 0 5 2 0 0 0 0 0 0 0\n",
            " 0 0 0 0 0 0 0 0 0 0 0 0 0 2 0 0 0 0 0 0 0 0 0 0 0 0 0 0 0 0 0 0 0 0 0 0 0\n",
            " 0 0 0 0 0 0 0 0 0 0 0 0 0 0 0 0 0 0 0 0 0 0 0 0 0 0 0 1 0 0 0 0 0 0 0 0 0\n",
            " 0 0 5 0 1 1 0 0 0 0 0 0 0 0 0 0 0 0 0 0 0 2 0 0 0 0 0 0 0 0 0 0 0 0 0 0 0\n",
            " 0 0 0 0 0 0 0 0 0 0 0 0 0 0 0 0 0 0 0 0 0 0 0 0 0 0 0 0 0 0 0 1 0 0 0 0 0\n",
            " 0 0 0 0 0 0 0 0 0 0 0 6 2 0 0 0 0 0 0 0 0]\n"
          ]
        }
      ],
      "source": [
        "print(labels)"
      ]
    },
    {
      "cell_type": "code",
      "execution_count": 31,
      "metadata": {
        "id": "ihpLeW51qLHX"
      },
      "outputs": [],
      "source": [
        "np.savetxt(\"labels.csv\", labels, delimiter=\",\")"
      ]
    },
    {
      "cell_type": "code",
      "source": [
        "from sklearn import metrics\n",
        "\n",
        "#Silhouette Score: Measures how close each sample in one cluster is to the samples in the neighboring clusters. The best value is 1 and the worst value is -1.\n",
        "#Values near 0 indicate overlapping clusters. Negative values generally indicate that a sample has been assigned to the wrong cluster, as a different cluster is more similar.\n",
        "silhouette_score = metrics.silhouette_score(distance_matrix, labels, metric='precomputed')\n",
        "\n",
        "#Calinski-Harabasz Index: Also known as the Variance Ratio Criterion, it is the ratio of the sum of between-clusters dispersion and of inter-cluster dispersion for all clusters.\n",
        "#The score is higher when clusters are dense and well separated, which relates to a standard concept of a cluster.\n",
        "calinski_harabasz_score = metrics.calinski_harabasz_score(numeric_data, labels)\n",
        "\n",
        "#Davies-Bouldin Index: It is defined as the average similarity measure of each cluster with its most similar cluster, where similarity is the ratio of within-cluster distances to between-cluster distances.\n",
        "#The minimum score is zero, with lower values indicating better clustering.\n",
        "davies_bouldin_score = metrics.davies_bouldin_score(numeric_data, labels)\n",
        "\n",
        "print('Silhouette Score (1 is best): ', silhouette_score)\n",
        "print('Calinski Harabasz Score (higher is better): ', calinski_harabasz_score)\n",
        "print('Davies Bouldin Score (lower is better): ', davies_bouldin_score)\n"
      ],
      "metadata": {
        "id": "lgQQdpj9LT0g",
        "colab": {
          "base_uri": "https://localhost:8080/"
        },
        "outputId": "fe538aeb-2cf9-4f29-a580-d4e93c49e43a"
      },
      "execution_count": 32,
      "outputs": [
        {
          "output_type": "stream",
          "name": "stdout",
          "text": [
            "Silhouette Score (1 is best):  0.6919516734083234\n",
            "Calinski Harabasz Score (higher is better):  24.998080179793522\n",
            "Davies Bouldin Score (lower is better):  2.7833608710826576\n"
          ]
        }
      ]
    },
    {
      "cell_type": "code",
      "execution_count": 33,
      "metadata": {
        "id": "ME0lTov5w8Q2",
        "colab": {
          "base_uri": "https://localhost:8080/",
          "height": 1000
        },
        "outputId": "d4f5cbfb-8f5b-42b1-9fd8-5e50e1b221c9"
      },
      "outputs": [
        {
          "output_type": "display_data",
          "data": {
            "text/plain": [
              "<Figure size 1500x3200 with 8 Axes>"
            ],
            "image/png": "[encoded data removed]"
          },
          "metadata": {}
        }
      ],
      "source": [
        "# Create a dictionary to store data of each cluster\n",
        "clusters = {}\n",
        "for i, label in enumerate(labels):\n",
        "    if label not in clusters:\n",
        "        clusters[label] = []\n",
        "    clusters[label].append(numeric_data[i])\n",
        "\n",
        "# Calculate the number of rows and columns for the grid of plots\n",
        "n_labels = len(clusters)\n",
        "\n",
        "# Set the size of the entire figure\n",
        "plt.figure(figsize=(15, 4 * n_labels))\n",
        "\n",
        "# Plot the data for each cluster in a grid\n",
        "for idx, (label, data) in enumerate(clusters.items(), start=1):\n",
        "    ax = plt.subplot(n_labels, 1, idx)\n",
        "    for row in data:\n",
        "        ones_indices = np.where(row == 1)\n",
        "        ax.scatter(ones_indices, np.ones_like(ones_indices), marker='o')\n",
        "    ax.set_title(f\"Cluster {label}\")\n",
        "    ax.set_xlabel(\"Time (grouped in 10-second intervals)\")\n",
        "    ax.set_ylim(0, 2)\n",
        "    ax.set_yticks([1])\n",
        "    ax.set_yticklabels(['1'])\n",
        "\n",
        "plt.tight_layout()\n",
        "plt.show()\n",
        "\n",
        "\n"
      ]
    },
    {
      "cell_type": "code",
      "source": [
        "num_labels = n_labels"
      ],
      "metadata": {
        "id": "hS3DHf99NcXQ"
      },
      "execution_count": 34,
      "outputs": []
    },
    {
      "cell_type": "code",
      "execution_count": 35,
      "metadata": {
        "id": "NN07sO4SzWh_"
      },
      "outputs": [],
      "source": [
        "\n",
        "# # Create a dictionary to store data of each cluster\n",
        "# clusters = {}\n",
        "# for i, label in enumerate(labels):\n",
        "#     if label not in clusters:\n",
        "#         clusters[label] = []\n",
        "#     clusters[label].append(numeric_data[i])\n",
        "\n",
        "# # Set the size of the figure\n",
        "# plt.figure(figsize=(15, 4))\n",
        "\n",
        "# # Define the colors for each cluster\n",
        "# colors = plt.cm.get_cmap('viridis', len(clusters))\n",
        "\n",
        "# # Define the text for each cluster - hardcoded WILL NOT WORK WITH EACH INTERATION\n",
        "# cluster_texts = {\n",
        "#     0: \":_fusAD:, :_fusApril::_fusApril:, :_fusBlind:\",\n",
        "#     1: \":_fus7::_fus7::_fus7:, :_fus7:see, :_fusComfy::_fusComfy::_fus7:\",\n",
        "#     2: \":_fusPat:, AINTNOWAY, AYO\",\n",
        "#     3: \":skull:, :_fusD::_fusD::_fusD:, Ahhahaa\",\n",
        "#     4: \":rolling_on_the_floor_laughing::rolling_on_the_floor_laughing::rolling_on_the_floor_laughing::rolling_on_the_floor_laughing, AYOOO\",\n",
        "#     5: \"Woooooo, Yesssss, wideVIBE, !@Green\",\n",
        "#     6: \"AHAHAHAHA, BIGWOW, Broooo, Canâ€™t\",\n",
        "#     7: \":_fusKeK:, :rolling_on_the_floor_laughing:, ????\",\n",
        "#     8: \"..., :_fusKeK:, :_fusOMEGA:\"\n",
        "# }\n",
        "\n",
        "# # Plot the data for each cluster with a different color\n",
        "# for idx, (label, data) in enumerate(clusters.items()):\n",
        "#     for row in data:\n",
        "#         ones_indices = np.where(row == 1)\n",
        "#         plt.scatter(ones_indices, np.full_like(ones_indices, idx), marker='o', color=colors(idx), label=f\"Cluster {label}: {cluster_texts[label]}\" if idx == 0 else None)\n",
        "\n",
        "# plt.xlabel(\"Time (grouped into intervals)\")\n",
        "# plt.ylim(-1, len(clusters))\n",
        "# plt.yticks(range(len(clusters)), [f\"Cluster {label}\" for label in clusters.keys()])\n",
        "# plt.tight_layout()\n",
        "\n",
        "# # Add the legend at the bottom of the plot\n",
        "# legend_elements = [plt.Line2D([0], [0], marker='o', color='w', label=f\"Cluster {label}: {cluster_texts[label]}\", markerfacecolor=colors(idx), markersize=8) for idx, label in enumerate(clusters.keys())]\n",
        "# plt.legend(handles=legend_elements, bbox_to_anchor=(0.5, -0.25), loc='upper center', ncol=3)\n",
        "\n",
        "# plt.show()\n",
        "\n",
        "\n",
        "\n"
      ]
    },
    {
      "cell_type": "code",
      "execution_count": 36,
      "metadata": {
        "id": "kAujXODd1oa0"
      },
      "outputs": [],
      "source": [
        "df_expanded.to_csv(\"messages.csv\")"
      ]
    },
    {
      "cell_type": "code",
      "execution_count": 37,
      "metadata": {
        "id": "Tzb6wb1y2Kim"
      },
      "outputs": [],
      "source": [
        "#add interation to score tracker\n",
        "\n",
        "######################################\n",
        "#REMEMBER TO ADD NOTES & TESTING PHASE\n",
        "######################################\n",
        "\n",
        "testing_phase = \"rapid fuzz testing\"\n",
        "notes = \"testing rapid fuzz\"\n",
        "\n",
        "import csv\n",
        "\n",
        "# Open the file in append mode ('a')\n",
        "with open('score_tracker.csv', 'a', newline='') as f:\n",
        "    writer = csv.writer(f)\n",
        "    writer.writerow([testing_phase, date_time, n_messages, second_interval,fuzz_ratio, data_size, algo, algo_time, dist, dist_time, mp, distance_threshold, n_clusters, affinity, linkage, num_labels, silhouette_score, calinski_harabasz_score, davies_bouldin_score, notes])\n"
      ]
    },
    {
      "cell_type": "code",
      "source": [
        "dtw.try_import_c(verbose=True)"
      ],
      "metadata": {
        "id": "gt76rmtRSm60",
        "colab": {
          "base_uri": "https://localhost:8080/"
        },
        "outputId": "81c8e5c1-eeaf-40ff-cbec-02a4e93163aa"
      },
      "execution_count": 38,
      "outputs": [
        {
          "output_type": "stream",
          "name": "stdout",
          "text": [
            "All ok ...\n",
            "== Packages ==\n",
            "- Numpy version: 1.22.4\n",
            "- Matplotlib version: 3.7.1\n",
            "- Scipy version: 1.10.1\n",
            "== System information ==\n",
            "namespace(name='cpython', cache_tag='cpython-310', version=sys.version_info(major=3, minor=10, micro=11, releaselevel='final', serial=0), hexversion=50990064, _multiarch='x86_64-linux-gnu')\n",
            "== Compilation information ==\n",
            "Compiler type: unix\n",
            "--noopenmp: 0\n",
            "--forceopenmp: 0\n",
            "--noxpreprocessor: 0\n",
            "--forcellvm: 0\n",
            "--forcegnugcc: 0\n",
            "--forcestatic: 0\n",
            "Cython found (during compilation)\n",
            "- Version: 0.29.32\n",
            "- Locations: <module 'Cython' from '/tmp/pip-build-env-l2jmr8ns/overlay/lib/python3.10/site-packages/Cython/__init__.py'>\n",
            "Numpy found (during compilation):\n",
            "- Version: 1.23.3\n",
            "- Location: <module 'numpy' from '/tmp/pip-build-env-l2jmr8ns/overlay/lib/python3.10/site-packages/numpy/__init__.py'>\n",
            "Checking if gcc redirects to clang\n",
            "gcc --version # with stdout=-1, stderr=-1, input=, encoding=ascii\n",
            "\n",
            "Using GNU GCC settings (gcc)\n",
            "Checking for OpenMP availability for gcc\n",
            "gcc -dM -E -Xpreprocessor -fopenmp - # with stdout=-1, stderr=-1, input=, encoding=ascii\n",
            "\n",
            "#define _OPENMP 201511\n",
            "... found OpenMP\n",
            "All extensions:\n",
            "[<setuptools.extension.Extension('dtaidistance.dtw_cc') at 0x7fecc0386e60>, <setuptools.extension.Extension('dtaidistance.ed_cc') at 0x7fecc0387370>, <setuptools.extension.Extension('dtaidistance.dtw_cc_omp') at 0x7fecc03877f0>, <setuptools.extension.Extension('dtaidistance.dtw_cc_numpy') at 0x7fecc039d570>]\n",
            "\n",
            "\n",
            "==\n"
          ]
        },
        {
          "output_type": "execute_result",
          "data": {
            "text/plain": [
              "True"
            ]
          },
          "metadata": {},
          "execution_count": 38
        }
      ]
    },
    {
      "cell_type": "code",
      "source": [],
      "metadata": {
        "id": "P_bE-vrVaWTj"
      },
      "execution_count": 38,
      "outputs": []
    }
  ],
  "metadata": {
    "colab": {
      "provenance": []
    },
    "kernelspec": {
      "display_name": "Python 3",
      "name": "python3"
    },
    "language_info": {
      "codemirror_mode": {
        "name": "ipython",
        "version": 3
      },
      "file_extension": ".py",
      "mimetype": "text/x-python",
      "name": "python",
      "nbconvert_exporter": "python",
      "pygments_lexer": "ipython3",
      "version": "3.11.3"
    }
  },
  "nbformat": 4,
  "nbformat_minor": 0
}